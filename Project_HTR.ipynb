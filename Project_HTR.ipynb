{
  "nbformat": 4,
  "nbformat_minor": 0,
  "metadata": {
    "colab": {
      "provenance": []
    },
    "kernelspec": {
      "name": "python3",
      "display_name": "Python 3"
    },
    "language_info": {
      "name": "python"
    }
  },
  "cells": [
    {
      "cell_type": "markdown",
      "source": [
        "**Handwriting Recognition (HTR)**"
      ],
      "metadata": {
        "id": "wBgnUecYUeGq"
      }
    },
    {
      "cell_type": "code",
      "execution_count": null,
      "metadata": {
        "id": "6rGqV17PTscn",
        "colab": {
          "base_uri": "https://localhost:8080/"
        },
        "outputId": "bb4c00b8-ee38-42d7-bafa-de6c9d302b76"
      },
      "outputs": [
        {
          "output_type": "stream",
          "name": "stdout",
          "text": [
            "Mounted at /content/drive\n"
          ]
        }
      ],
      "source": [
        "from google.colab import drive\n",
        "drive.mount('/content/drive')"
      ]
    },
    {
      "cell_type": "code",
      "source": [
        "!pip install gtts \n"
      ],
      "metadata": {
        "id": "JzWq66hmWvOZ",
        "colab": {
          "base_uri": "https://localhost:8080/"
        },
        "outputId": "008120dd-b12f-4f28-a830-91d19763a83b"
      },
      "execution_count": null,
      "outputs": [
        {
          "output_type": "stream",
          "name": "stdout",
          "text": [
            "Looking in indexes: https://pypi.org/simple, https://us-python.pkg.dev/colab-wheels/public/simple/\n",
            "Requirement already satisfied: gtts in /usr/local/lib/python3.7/dist-packages (2.2.4)\n",
            "Requirement already satisfied: six in /usr/local/lib/python3.7/dist-packages (from gtts) (1.15.0)\n",
            "Requirement already satisfied: requests in /usr/local/lib/python3.7/dist-packages (from gtts) (2.23.0)\n",
            "Requirement already satisfied: click in /usr/local/lib/python3.7/dist-packages (from gtts) (7.1.2)\n",
            "Requirement already satisfied: certifi>=2017.4.17 in /usr/local/lib/python3.7/dist-packages (from requests->gtts) (2022.6.15)\n",
            "Requirement already satisfied: urllib3!=1.25.0,!=1.25.1,<1.26,>=1.21.1 in /usr/local/lib/python3.7/dist-packages (from requests->gtts) (1.24.3)\n",
            "Requirement already satisfied: chardet<4,>=3.0.2 in /usr/local/lib/python3.7/dist-packages (from requests->gtts) (3.0.4)\n",
            "Requirement already satisfied: idna<3,>=2.5 in /usr/local/lib/python3.7/dist-packages (from requests->gtts) (2.10)\n"
          ]
        }
      ]
    },
    {
      "cell_type": "code",
      "source": [
        "!pip install opencv-python"
      ],
      "metadata": {
        "id": "QvvbeRw8T06M",
        "colab": {
          "base_uri": "https://localhost:8080/"
        },
        "outputId": "c2243f49-8f65-4799-c21f-628c2d0d80dd"
      },
      "execution_count": null,
      "outputs": [
        {
          "output_type": "stream",
          "name": "stdout",
          "text": [
            "Looking in indexes: https://pypi.org/simple, https://us-python.pkg.dev/colab-wheels/public/simple/\n",
            "Requirement already satisfied: opencv-python in /usr/local/lib/python3.7/dist-packages (4.6.0.66)\n",
            "Requirement already satisfied: numpy>=1.14.5 in /usr/local/lib/python3.7/dist-packages (from opencv-python) (1.21.6)\n"
          ]
        }
      ]
    },
    {
      "cell_type": "code",
      "source": [
        "!pip install editdistance"
      ],
      "metadata": {
        "id": "0JwuBwV3T1WZ",
        "colab": {
          "base_uri": "https://localhost:8080/"
        },
        "outputId": "e9733f39-2ef6-46b7-8d3a-4ad39e87eae1"
      },
      "execution_count": null,
      "outputs": [
        {
          "output_type": "stream",
          "name": "stdout",
          "text": [
            "Looking in indexes: https://pypi.org/simple, https://us-python.pkg.dev/colab-wheels/public/simple/\n",
            "Requirement already satisfied: editdistance in /usr/local/lib/python3.7/dist-packages (0.5.3)\n"
          ]
        }
      ]
    },
    {
      "cell_type": "code",
      "source": [
        "%tensorflow_version 1.x"
      ],
      "metadata": {
        "id": "TWS9AKccT5OR"
      },
      "execution_count": null,
      "outputs": []
    },
    {
      "cell_type": "code",
      "source": [
        "import os\n",
        "os.chdir('/content/drive/MyDrive/Copy of 6th sem PW')"
      ],
      "metadata": {
        "id": "QBBseko1T6o2"
      },
      "execution_count": null,
      "outputs": []
    },
    {
      "cell_type": "code",
      "source": [
        "%cd /content/drive/MyDrive/Copy of 6th sem PW/src"
      ],
      "metadata": {
        "colab": {
          "base_uri": "https://localhost:8080/"
        },
        "id": "FSVBty4tUPPO",
        "outputId": "efc4918c-80cc-4c68-89ef-8464265b4e13"
      },
      "execution_count": null,
      "outputs": [
        {
          "output_type": "stream",
          "name": "stdout",
          "text": [
            "/content/drive/.shortcut-targets-by-id/1Es0TL1kXcF873yX8mBvIwRol0f6zrnpd/6th sem PW/src\n"
          ]
        }
      ]
    },
    {
      "cell_type": "code",
      "source": [
        "!python main.py"
      ],
      "metadata": {
        "id": "ozahAFqSm-Lv",
        "colab": {
          "base_uri": "https://localhost:8080/"
        },
        "outputId": "a7cdb55c-2f9b-488f-8767-eb4636776225"
      },
      "execution_count": null,
      "outputs": [
        {
          "output_type": "stream",
          "name": "stdout",
          "text": [
            "Validation character error rate of saved model: 10.624916%\n",
            "WARNING:tensorflow:From /content/drive/.shortcut-targets-by-id/1Es0TL1kXcF873yX8mBvIwRol0f6zrnpd/6th sem PW/src/Model.py:33: The name tf.placeholder is deprecated. Please use tf.compat.v1.placeholder instead.\n",
            "\n",
            "WARNING:tensorflow:From /content/drive/.shortcut-targets-by-id/1Es0TL1kXcF873yX8mBvIwRol0f6zrnpd/6th sem PW/src/Model.py:67: The name tf.truncated_normal is deprecated. Please use tf.random.truncated_normal instead.\n",
            "\n",
            "WARNING:tensorflow:From /content/drive/.shortcut-targets-by-id/1Es0TL1kXcF873yX8mBvIwRol0f6zrnpd/6th sem PW/src/Model.py:69: batch_normalization (from tensorflow.python.layers.normalization) is deprecated and will be removed in a future version.\n",
            "Instructions for updating:\n",
            "Use keras.layers.BatchNormalization instead.  In particular, `tf.control_dependencies(tf.GraphKeys.UPDATE_OPS)` should not be used (consult the `tf.keras.layers.batch_normalization` documentation).\n",
            "WARNING:tensorflow:From /tensorflow-1.15.2/python3.7/tensorflow_core/python/layers/normalization.py:327: Layer.apply (from tensorflow.python.keras.engine.base_layer) is deprecated and will be removed in a future version.\n",
            "Instructions for updating:\n",
            "Please use `layer.__call__` method instead.\n",
            "WARNING:tensorflow:From /content/drive/.shortcut-targets-by-id/1Es0TL1kXcF873yX8mBvIwRol0f6zrnpd/6th sem PW/src/Model.py:71: The name tf.nn.max_pool is deprecated. Please use tf.nn.max_pool2d instead.\n",
            "\n",
            "WARNING:tensorflow:\n",
            "The TensorFlow contrib module will not be included in TensorFlow 2.0.\n",
            "For more information, please see:\n",
            "  * https://github.com/tensorflow/community/blob/master/rfcs/20180907-contrib-sunset.md\n",
            "  * https://github.com/tensorflow/addons\n",
            "  * https://github.com/tensorflow/io (for I/O related ops)\n",
            "If you depend on functionality not listed there, please file an issue.\n",
            "\n",
            "WARNING:tensorflow:From /content/drive/.shortcut-targets-by-id/1Es0TL1kXcF873yX8mBvIwRol0f6zrnpd/6th sem PW/src/Model.py:82: LSTMCell.__init__ (from tensorflow.python.ops.rnn_cell_impl) is deprecated and will be removed in a future version.\n",
            "Instructions for updating:\n",
            "This class is equivalent as tf.keras.layers.LSTMCell, and will be replaced by that in Tensorflow 2.0.\n",
            "WARNING:tensorflow:From /content/drive/.shortcut-targets-by-id/1Es0TL1kXcF873yX8mBvIwRol0f6zrnpd/6th sem PW/src/Model.py:85: MultiRNNCell.__init__ (from tensorflow.python.ops.rnn_cell_impl) is deprecated and will be removed in a future version.\n",
            "Instructions for updating:\n",
            "This class is equivalent as tf.keras.layers.StackedRNNCells, and will be replaced by that in Tensorflow 2.0.\n",
            "WARNING:tensorflow:From /content/drive/.shortcut-targets-by-id/1Es0TL1kXcF873yX8mBvIwRol0f6zrnpd/6th sem PW/src/Model.py:89: bidirectional_dynamic_rnn (from tensorflow.python.ops.rnn) is deprecated and will be removed in a future version.\n",
            "Instructions for updating:\n",
            "Please use `keras.layers.Bidirectional(keras.layers.RNN(cell))`, which is equivalent to this API\n",
            "WARNING:tensorflow:From /tensorflow-1.15.2/python3.7/tensorflow_core/python/ops/rnn.py:464: dynamic_rnn (from tensorflow.python.ops.rnn) is deprecated and will be removed in a future version.\n",
            "Instructions for updating:\n",
            "Please use `keras.layers.RNN(cell)`, which is equivalent to this API\n",
            "WARNING:tensorflow:From /tensorflow-1.15.2/python3.7/tensorflow_core/python/ops/rnn_cell_impl.py:958: Layer.add_variable (from tensorflow.python.keras.engine.base_layer) is deprecated and will be removed in a future version.\n",
            "Instructions for updating:\n",
            "Please use `layer.add_weight` method instead.\n",
            "WARNING:tensorflow:From /tensorflow-1.15.2/python3.7/tensorflow_core/python/ops/rnn_cell_impl.py:962: calling Zeros.__init__ (from tensorflow.python.ops.init_ops) with dtype is deprecated and will be removed in a future version.\n",
            "Instructions for updating:\n",
            "Call initializer instance with the dtype argument instead of passing it to the constructor\n",
            "WARNING:tensorflow:From /content/drive/.shortcut-targets-by-id/1Es0TL1kXcF873yX8mBvIwRol0f6zrnpd/6th sem PW/src/Model.py:108: The name tf.nn.ctc_loss is deprecated. Please use tf.compat.v1.nn.ctc_loss instead.\n",
            "\n",
            "WARNING:tensorflow:From /content/drive/.shortcut-targets-by-id/1Es0TL1kXcF873yX8mBvIwRol0f6zrnpd/6th sem PW/src/Model.py:46: The name tf.get_collection is deprecated. Please use tf.compat.v1.get_collection instead.\n",
            "\n",
            "WARNING:tensorflow:From /content/drive/.shortcut-targets-by-id/1Es0TL1kXcF873yX8mBvIwRol0f6zrnpd/6th sem PW/src/Model.py:46: The name tf.GraphKeys is deprecated. Please use tf.compat.v1.GraphKeys instead.\n",
            "\n",
            "WARNING:tensorflow:From /content/drive/.shortcut-targets-by-id/1Es0TL1kXcF873yX8mBvIwRol0f6zrnpd/6th sem PW/src/Model.py:48: The name tf.train.RMSPropOptimizer is deprecated. Please use tf.compat.v1.train.RMSPropOptimizer instead.\n",
            "\n",
            "WARNING:tensorflow:From /tensorflow-1.15.2/python3.7/tensorflow_core/python/training/rmsprop.py:119: calling Ones.__init__ (from tensorflow.python.ops.init_ops) with dtype is deprecated and will be removed in a future version.\n",
            "Instructions for updating:\n",
            "Call initializer instance with the dtype argument instead of passing it to the constructor\n",
            "Python: 3.7.13 (default, Apr 24 2022, 01:04:09) \n",
            "[GCC 7.5.0]\n",
            "Tensorflow: 1.15.2\n",
            "WARNING:tensorflow:From /content/drive/.shortcut-targets-by-id/1Es0TL1kXcF873yX8mBvIwRol0f6zrnpd/6th sem PW/src/Model.py:137: The name tf.Session is deprecated. Please use tf.compat.v1.Session instead.\n",
            "\n",
            "2022-07-21 07:31:25.512965: I tensorflow/stream_executor/platform/default/dso_loader.cc:44] Successfully opened dynamic library libcuda.so.1\n",
            "2022-07-21 07:31:25.523404: E tensorflow/stream_executor/cuda/cuda_driver.cc:318] failed call to cuInit: CUDA_ERROR_NO_DEVICE: no CUDA-capable device is detected\n",
            "2022-07-21 07:31:25.523456: I tensorflow/stream_executor/cuda/cuda_diagnostics.cc:156] kernel driver does not appear to be running on this host (6b2e6df73149): /proc/driver/nvidia/version does not exist\n",
            "2022-07-21 07:31:25.528955: I tensorflow/core/platform/profile_utils/cpu_utils.cc:94] CPU Frequency: 2199995000 Hz\n",
            "2022-07-21 07:31:25.529175: I tensorflow/compiler/xla/service/service.cc:168] XLA service 0x31a3640 initialized for platform Host (this does not guarantee that XLA will be used). Devices:\n",
            "2022-07-21 07:31:25.529211: I tensorflow/compiler/xla/service/service.cc:176]   StreamExecutor device (0): Host, Default Version\n",
            "WARNING:tensorflow:From /content/drive/.shortcut-targets-by-id/1Es0TL1kXcF873yX8mBvIwRol0f6zrnpd/6th sem PW/src/Model.py:139: The name tf.train.Saver is deprecated. Please use tf.compat.v1.train.Saver instead.\n",
            "\n",
            "Init with stored values from ../model/snapshot-38\n",
            "Recognized: \"Fodayis2\"\n",
            "Probability: 0.050224006\n"
          ]
        }
      ]
    },
    {
      "cell_type": "code",
      "source": [
        "!python text_to_speech.py"
      ],
      "metadata": {
        "id": "TaBFyJgReEc1",
        "colab": {
          "base_uri": "https://localhost:8080/"
        },
        "outputId": "8c6621c3-464b-4191-d74c-b641da61f040"
      },
      "execution_count": null,
      "outputs": [
        {
          "output_type": "stream",
          "name": "stdout",
          "text": [
            "sh: 1: start: not found\n"
          ]
        }
      ]
    }
  ]
}